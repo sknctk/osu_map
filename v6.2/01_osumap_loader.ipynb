{
 "cells": [
  {
   "cell_type": "markdown",
   "metadata": {
    "deletable": true,
    "editable": true
   },
   "source": [
    "### osu!nn #1: Map Dataset Reader\n",
    "\n",
    "This notebook reads a file \"maplist.txt\", then reads the .osu files and the relevant music files to convert into some data.\n",
    "\n",
    "Data that feeds the Deep Neural Network.\n",
    "\n",
    "Last edit: 2019/4/22"
   ]
  },
  {
   "cell_type": "markdown",
   "metadata": {
    "deletable": true,
    "editable": true
   },
   "source": [
    "First of all, we need to install FFmpeg and specify its path here. It is needed to convert the .mp3 files to .wavs which Python can read.\n",
    "\n",
    "It's also fine to use any other converter, such as LAME: just edit the 24th line of osureader.py (starting with \"subprocess.call\") for the converter's parameters.\n",
    "\n",
    "**Then, fill maplist.txt  with the paths of .osu files you want to train with.** Otherwise it cannot find any of the maps because the maps are on my computer. The default model is trained with the Sota dataset including 44 maps of Sota Fujimori music.\n",
    "\n",
    "After that run the grid below to convert the maps."
   ]
  },
  {
   "cell_type": "code",
   "execution_count": null,
   "metadata": {
    "collapsed": false,
    "deletable": true,
    "editable": true
   },
   "outputs": [],
   "source": [
    "import os, re, time\n",
    "from osureader import * \n",
    "\n",
    "# set the ffmpeg path here!!\n",
    "# add \"r\" before the path string\n",
    "\n",
    "GLOBAL_VARS[\"ffmpeg_path\"] = r\"D:\\StudyData\\Tensorflow\\ffmpeg\\bin\\ffmpeg.exe\";\n",
    "\n",
    "# in linux, it is installed globally, so use this\n",
    "# GLOBAL_VARS[\"ffmpeg_path\"] = \"ffmpeg\";\n",
    "\n",
    "mapdata_path = \"mapdata/\";\n",
    "\n",
    "# check if it works\n",
    "test_process_path(GLOBAL_VARS[\"ffmpeg_path\"]);\n",
    "\n",
    "# check if nodejs works\n",
    "test_process_path(\"node\");\n",
    "\n",
    "# the divisor parameter\n",
    "divisor = 4;\n",
    "\n",
    "# make sure the mapdata folder exists\n",
    "if not os.path.isdir(mapdata_path):\n",
    "    os.mkdir(mapdata_path);\n",
    "\n",
    "with open(\"maplist.txt\") as fp:\n",
    "    fcont = fp.readlines();\n",
    "\n",
    "# The following part is something I used to filter maps with difficulty names\n",
    "results = [];\n",
    "# exclude_words = [\"Easy\", \"Normal\", \"Hard\", \"Taiko\", \"Salad\", \"Platter\", \"Overdose\", \"Rain\", \"4K\", \"5K\", \"6K\", \"7K\", \"8K\", \"9K\",\n",
    "#                  \"Kantan\", \"Futsuu\", \"Muzukashii\", \"Oni\", \"Field \"];\n",
    "for line in fcont:\n",
    "#     if re.search(\"TV\", line):\n",
    "#         apd = True;\n",
    "#         for kw in exclude_words:\n",
    "#             if kw.lower() in line.strip().lower():\n",
    "#                 apd = False;\n",
    "#                 break;\n",
    "#         if apd:\n",
    "#             results.append(line.strip());\n",
    "    results.append(line);\n",
    "\n",
    "# Remove the originally existing npzs\n",
    "for file in os.listdir(mapdata_path):\n",
    "    if file.endswith(\".npz\"):\n",
    "        os.remove(os.path.join(mapdata_path, file));\n",
    "\n",
    "print(\"Number of filtered maps: {}\".format(len(results)));\n",
    "\n",
    "for k, mname in enumerate(results):\n",
    "    try:\n",
    "        start = time.time()\n",
    "        read_and_save_osu_file(mname.strip(), filename=os.path.join(mapdata_path, str(k)), divisor=divisor);\n",
    "        end = time.time()\n",
    "        print(\"Map data #\" + str(k) + \" saved! time = \" + str(end - start) + \" secs\");\n",
    "    except Exception as e:\n",
    "        print(\"Error on #{}, path = {}, error = {}\".format(str(k), mname.strip(), e));\n",
    "\n",
    "# If some map causes bug please tell me!! https://discord.gg/npmSy7K"
   ]
  }
 ],
 "metadata": {
  "kernelspec": {
   "display_name": "Python 3",
   "language": "python",
   "name": "python3"
  },
  "language_info": {
   "codemirror_mode": {
    "name": "ipython",
    "version": 3
   },
   "file_extension": ".py",
   "mimetype": "text/x-python",
   "name": "python",
   "nbconvert_exporter": "python",
   "pygments_lexer": "ipython3",
   "version": "3.5.2"
  }
 },
 "nbformat": 4,
 "nbformat_minor": 2
}
